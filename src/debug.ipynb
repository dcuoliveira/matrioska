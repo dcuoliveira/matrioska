{
 "cells": [
  {
   "cell_type": "code",
   "execution_count": 1,
   "metadata": {},
   "outputs": [],
   "source": [
    "import yfinance as yf\n",
    "import pandas as pd\n",
    "import requests\n",
    "import matplotlib.pyplot as plt\n",
    "import pickle\n",
    "import os\n",
    "\n",
    "plt.style.use(\"bmh\")"
   ]
  },
  {
   "cell_type": "code",
   "execution_count": 39,
   "metadata": {},
   "outputs": [],
   "source": [
    "url = 'https://www.fundsexplorer.com.br/ranking'\n",
    "headers = {\n",
    "    'User-Agent': \n",
    "        'Mozilla/5.0 (Macintosh; Intel Mac OS X 10_11_4) AppleWebKit/537.36'\n",
    "        ' (KHTML, like Gecko) Chrome/51.0.2704.103 Safari/537.36'\n",
    "}\n",
    "\n",
    "response = requests.get(url, headers=headers)\n",
    "if response.status_code == 200:\n",
    "    fiis_summary = pd.read_html(response.content, encoding='utf-8')[0]"
   ]
  },
  {
   "cell_type": "code",
   "execution_count": 66,
   "metadata": {},
   "outputs": [],
   "source": [
    "bar_name = \"Close\"\n",
    "resample_freq = \"D\"\n",
    "instruments = list(fiis_summary.loc[fiis_summary[\"Liquidez Diária\"] >= (fiis_summary[\"Liquidez Diária\"].median() * 10), \"Código do fundo\"].unique())\n",
    "\n",
    "error_tickers = []\n",
    "bars = []\n",
    "volumes = []\n",
    "for inst in instruments:\n",
    "    try: \n",
    "        instrument_info = yf.Ticker(\"{}.SA\".format(inst))\n",
    "        hist = instrument_info.history(period=\"max\", debug=False)[[bar_name, \"Volume\"]].resample(resample_freq).ffill().dropna()\n",
    "        hist.index = pd.to_datetime([dtref.strftime(\"%Y-%m-%d\") for dtref in hist.index])\n",
    "\n",
    "        bars.append(hist[[bar_name]].rename(columns={bar_name: \"{instrument} {bar_name}\".format(instrument=inst, bar_name=bar_name)}))\n",
    "        volumes.append(hist[[\"Volume\"]].rename(columns={\"Volume\": \"{instrument} Volume\".format(instrument=inst)}))\n",
    "    except:\n",
    "        error_tickers.append(inst)\n",
    "bars_df = pd.concat(bars, axis=1)\n",
    "volumes_df = pd.concat(volumes, axis=1)"
   ]
  },
  {
   "cell_type": "code",
   "execution_count": 79,
   "metadata": {},
   "outputs": [],
   "source": [
    "def save_pickle(path: str,\n",
    "                obj: dict):\n",
    "\n",
    "    with open(path, 'wb') as handle:\n",
    "        pickle.dump(obj, handle, protocol=pickle.HIGHEST_PROTOCOL)"
   ]
  },
  {
   "cell_type": "code",
   "execution_count": 84,
   "metadata": {},
   "outputs": [],
   "source": [
    "fiis_summary = {\"summary\": fiis_summary,\n",
    "                \"bars\": bars_df,\n",
    "                \"volumes\": volumes_df}\n",
    "\n",
    "\n",
    "save_pickle(path=os.path.join(os.getcwd(), \"data\", \"inputs\", \"fiis_summary.pickle\"), obj=fiis_summary)\n"
   ]
  },
  {
   "cell_type": "code",
   "execution_count": 3,
   "metadata": {},
   "outputs": [],
   "source": [
    "from src.utils.conn_data import load_pickle, save_pickle\n",
    "import os"
   ]
  },
  {
   "cell_type": "code",
   "execution_count": 4,
   "metadata": {},
   "outputs": [],
   "source": [
    "metadata = {\n",
    "\n",
    "    \"bkt_code\": [\"USDBRL\", \"USDCLP\", \"USDZAR\", \"USDCOP\", \"USDMXN\",\n",
    "                 \"USDEUR\", \"USDJPY\", \"USDAUD\", \"USDNZD\", \"USDCAD\", \"USDGBP\", \"USDCHF\", \"USDSEK\", \"USDNOK\",\n",
    "                 \"USDHUF\", \"USDPLN\", \"USDCZK\",\n",
    "                 \"USDCNH\", \"USDTWD\", \"USDINR\", \"USDKRW\"],\n",
    "\n",
    "    \"convert_currency\": [\"BRLUSD\", \"CLPUSD\", \"ZARUSD\", \"COPUSD\", \"MXNUSD\",\n",
    "                         \"EURUSD\", \"JPYUSD\", \"AUDUSD\", \"NZDUSD\", \"CADUSD\", \"GBPUSD\", \"CHFUSD\", \"SEKUSD\", \"NOKUSD\",\n",
    "                         \"HUFUSD\", \"PLNUSD\", \"CZKUSD\",\n",
    "                         \"CNHUSD\", \"TWDUSD\", \"INRUSD\", \"KRWUSD\"],\n",
    "\n",
    "    \"ct_size\": [1, 1, 1, 1, 1, 1, 1, 1, 1, 1, 1, 1, 1, 1, 1, 1, 1, 1, 1, 1, 1],    \n",
    "\n",
    "}"
   ]
  },
  {
   "cell_type": "code",
   "execution_count": 5,
   "metadata": {},
   "outputs": [
    {
     "ename": "NameError",
     "evalue": "name 'pd' is not defined",
     "output_type": "error",
     "traceback": [
      "\u001b[0;31m---------------------------------------------------------------------------\u001b[0m",
      "\u001b[0;31mNameError\u001b[0m                                 Traceback (most recent call last)",
      "\u001b[0;32m<ipython-input-5-58df75e493b5>\u001b[0m in \u001b[0;36m<module>\u001b[0;34m\u001b[0m\n\u001b[0;32m----> 1\u001b[0;31m \u001b[0mpd\u001b[0m\u001b[0;34m.\u001b[0m\u001b[0mDataFrame\u001b[0m\u001b[0;34m.\u001b[0m\u001b[0mfrom_dict\u001b[0m\u001b[0;34m(\u001b[0m\u001b[0mmetadata\u001b[0m\u001b[0;34m)\u001b[0m\u001b[0;34m\u001b[0m\u001b[0;34m\u001b[0m\u001b[0m\n\u001b[0m",
      "\u001b[0;31mNameError\u001b[0m: name 'pd' is not defined"
     ]
    }
   ],
   "source": [
    "pd.DataFrame.from_dict(metadata)"
   ]
  },
  {
   "cell_type": "code",
   "execution_count": 6,
   "metadata": {},
   "outputs": [],
   "source": [
    "input_path = os.path.join(os.getcwd(), \"data\", \"inputs\")\n",
    "save_pickle(obj=metadata, path=os.path.join(input_path, \"metadata.pickle\"))"
   ]
  },
  {
   "cell_type": "code",
   "execution_count": null,
   "metadata": {},
   "outputs": [],
   "source": []
  }
 ],
 "metadata": {
  "kernelspec": {
   "display_name": "base",
   "language": "python",
   "name": "python3"
  },
  "language_info": {
   "codemirror_mode": {
    "name": "ipython",
    "version": 3
   },
   "file_extension": ".py",
   "mimetype": "text/x-python",
   "name": "python",
   "nbconvert_exporter": "python",
   "pygments_lexer": "ipython3",
   "version": "3.8.8"
  },
  "orig_nbformat": 4,
  "vscode": {
   "interpreter": {
    "hash": "a9eef0fa32e077c9448f51e4a09c9c502748bae222738f0f833cb1cd7319c4bd"
   }
  }
 },
 "nbformat": 4,
 "nbformat_minor": 2
}
